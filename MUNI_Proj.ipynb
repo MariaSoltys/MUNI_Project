{
  "nbformat": 4,
  "nbformat_minor": 0,
  "metadata": {
    "colab": {
      "provenance": [],
      "gpuType": "T4"
    },
    "kernelspec": {
      "name": "python3",
      "display_name": "Python 3"
    },
    "language_info": {
      "name": "python"
    },
    "accelerator": "GPU"
  },
  "cells": [
    {
      "cell_type": "code",
      "source": [
        "!pip install accelerate -U\n",
        "!pip install transformers[torch]\n",
        "!pip3 install torch torchvision torchaudio --index-url https://download.pytorch.org/whl/cu118\n",
        "!pip install evaluate\n",
        "!pip install transformers"
      ],
      "metadata": {
        "id": "RZlgnFmxBxdy"
      },
      "execution_count": null,
      "outputs": []
    },
    {
      "cell_type": "code",
      "source": [
        "import pandas as pd\n",
        "import numpy as np\n",
        "import evaluate\n",
        "\n",
        "import torch"
      ],
      "metadata": {
        "id": "DLpJSfei8Fn3"
      },
      "execution_count": 1,
      "outputs": []
    },
    {
      "cell_type": "code",
      "source": [
        "class Dataset(torch.utils.data.Dataset):\n",
        "    def __init__(self, tokenizer, texts, labels=None):\n",
        "        self.encodings = tokenizer(texts, padding=True, truncation=True, max_length=512)\n",
        "        self.labels = labels\n",
        "    def __getitem__(self, idx):\n",
        "        item = {key: torch.tensor(val[idx]) for key, val in self.encodings.items()}\n",
        "        if self.labels:\n",
        "            item[\"labels\"] = torch.tensor(self.labels[idx])\n",
        "        return item\n",
        "    def __len__(self):\n",
        "        return len(self.encodings[\"input_ids\"])"
      ],
      "metadata": {
        "id": "Po8xf3Pt8K12"
      },
      "execution_count": 2,
      "outputs": []
    },
    {
      "cell_type": "code",
      "source": [
        "def load_dataset():\n",
        "    # load documents\n",
        "    df = pd.read_csv(\"IMDB Dataset.csv\",sep=\",\")\n",
        "    df = df.drop_duplicates()\n",
        "    df = df.apply(lambda x: x.astype(str).str.lower() if x.dtype == \"object\" else x)\n",
        "    df[\"review\"] = df[\"review\"].str.replace('br','')\n",
        "    df['sentiment'] = df['sentiment'].replace({'positive': 0, 'negative': 1})\n",
        "    subset = df.iloc[0:3300]\n",
        "\n",
        "    return subset[\"review\"].tolist(), subset[\"sentiment\"].tolist()\n"
      ],
      "metadata": {
        "id": "zkPdqxNk8Qum"
      },
      "execution_count": 3,
      "outputs": []
    },
    {
      "cell_type": "code",
      "source": [
        "from transformers import AutoModelForSequenceClassification, AutoTokenizer\n",
        "from transformers import TrainingArguments, Trainer\n",
        "from transformers.optimization import get_scheduler\n",
        "from sklearn.model_selection import train_test_split\n",
        "from datasets import load_metric"
      ],
      "metadata": {
        "id": "ymmmNrIK8Vl7"
      },
      "execution_count": 4,
      "outputs": []
    },
    {
      "cell_type": "code",
      "source": [
        "# load the dataset\n",
        "docs, labels = load_dataset()\n",
        "X_train, X_test, y_train, y_test = train_test_split(docs, labels, test_size=0.2, random_state=42)"
      ],
      "metadata": {
        "id": "xkMWRuem8ZLq"
      },
      "execution_count": 5,
      "outputs": []
    },
    {
      "cell_type": "code",
      "source": [
        "# create model and tokenizers\n",
        "bert_tokenizer = AutoTokenizer.from_pretrained('distilbert-base-uncased')\n",
        "bert_model = AutoModelForSequenceClassification.from_pretrained('distilbert-base-uncased')\n",
        "\n",
        "train_docs_dataset = Dataset(bert_tokenizer, X_train, y_train)\n",
        "eval_docs_dataset = Dataset(bert_tokenizer, X_test, y_test)\n",
        "\n",
        "batch_size = 8\n",
        "epochs = 2\n",
        "\n",
        "weight_decay = 0.01\n"
      ],
      "metadata": {
        "colab": {
          "base_uri": "https://localhost:8080/"
        },
        "id": "oDBNotfP8ntT",
        "outputId": "837c8924-1b94-4936-bb8d-28dbfa6960d4"
      },
      "execution_count": 6,
      "outputs": [
        {
          "output_type": "stream",
          "name": "stderr",
          "text": [
            "Some weights of DistilBertForSequenceClassification were not initialized from the model checkpoint at distilbert-base-uncased and are newly initialized: ['pre_classifier.bias', 'pre_classifier.weight', 'classifier.bias', 'classifier.weight']\n",
            "You should probably TRAIN this model on a down-stream task to be able to use it for predictions and inference.\n"
          ]
        }
      ]
    },
    {
      "cell_type": "code",
      "source": [
        "metric = evaluate.load(\"accuracy\")\n",
        "def compute_metrics(eval_pred):\n",
        "    logits, labels = eval_pred\n",
        "    predictions = np.argmax(logits, axis=-1)\n",
        "    return metric.compute(predictions=predictions, references=labels)\n",
        "    #########################################\n",
        "    load_accuracy = load_metric(\"accuracy\")\n",
        "    load_f1 = load_metric(\"f1\")\n",
        "\n",
        "    logits, labels = eval_pred\n",
        "    predictions = np.argmax(logits, axis=-1)\n",
        "    accuracy = load_accuracy.compute(predictions=predictions, references=labels)[\"accuracy\"]\n",
        "    f1 = load_f1.compute(predictions=predictions, references=labels)[\"f1\"]\n",
        "    return {\"accuracy\": accuracy, \"f1\": f1}\n",
        "    #########################################\n",
        "\n",
        "training_args = TrainingArguments(\n",
        "    output_dir='./results',\n",
        "    num_train_epochs=epochs,\n",
        "    per_device_train_batch_size=batch_size,\n",
        "    per_device_eval_batch_size=batch_size,\n",
        "    evaluation_strategy=\"epoch\",\n",
        "    weight_decay=weight_decay,\n",
        "    logging_dir='./logs'\n",
        ")"
      ],
      "metadata": {
        "id": "o9WA99vvVy1D"
      },
      "execution_count": 7,
      "outputs": []
    },
    {
      "cell_type": "code",
      "execution_count": 8,
      "metadata": {
        "colab": {
          "base_uri": "https://localhost:8080/",
          "height": 158
        },
        "id": "gw0hF1zF92uA",
        "outputId": "f11894ab-3bca-46f1-b0f7-1db6abc3224f"
      },
      "outputs": [
        {
          "output_type": "display_data",
          "data": {
            "text/plain": [
              "<IPython.core.display.HTML object>"
            ],
            "text/html": [
              "\n",
              "    <div>\n",
              "      \n",
              "      <progress value='660' max='660' style='width:300px; height:20px; vertical-align: middle;'></progress>\n",
              "      [660/660 04:51, Epoch 2/2]\n",
              "    </div>\n",
              "    <table border=\"1\" class=\"dataframe\">\n",
              "  <thead>\n",
              " <tr style=\"text-align: left;\">\n",
              "      <th>Epoch</th>\n",
              "      <th>Training Loss</th>\n",
              "      <th>Validation Loss</th>\n",
              "      <th>Accuracy</th>\n",
              "    </tr>\n",
              "  </thead>\n",
              "  <tbody>\n",
              "    <tr>\n",
              "      <td>1</td>\n",
              "      <td>No log</td>\n",
              "      <td>0.399903</td>\n",
              "      <td>0.871212</td>\n",
              "    </tr>\n",
              "    <tr>\n",
              "      <td>2</td>\n",
              "      <td>0.311000</td>\n",
              "      <td>0.368192</td>\n",
              "      <td>0.901515</td>\n",
              "    </tr>\n",
              "  </tbody>\n",
              "</table><p>"
            ]
          },
          "metadata": {}
        },
        {
          "output_type": "display_data",
          "data": {
            "text/plain": [
              "<IPython.core.display.HTML object>"
            ],
            "text/html": [
              "\n",
              "    <div>\n",
              "      \n",
              "      <progress value='83' max='83' style='width:300px; height:20px; vertical-align: middle;'></progress>\n",
              "      [83/83 00:10]\n",
              "    </div>\n",
              "    "
            ]
          },
          "metadata": {}
        }
      ],
      "source": [
        "trainer = Trainer(\n",
        "    model=bert_model,\n",
        "    args=training_args,\n",
        "    train_dataset=train_docs_dataset,\n",
        "    eval_dataset=eval_docs_dataset,\n",
        "    compute_metrics=compute_metrics,\n",
        "\n",
        ")\n",
        "\n",
        "trainer.train()\n",
        "trainer.evaluate()\n",
        "\n",
        "trainer.save_model()\n"
      ]
    }
  ]
}